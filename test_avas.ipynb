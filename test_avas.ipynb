{
 "cells": [
  {
   "cell_type": "code",
   "execution_count": 1,
   "metadata": {},
   "outputs": [],
   "source": [
    "# Внимание!!! Важно, что бы файлы с данными и исполняемый файл находились в одной папке,\n",
    "# тогда пути к тестовым и тренировочным наборам будут содержать только имена файлов.\n",
    "#\n",
    "# В пути к тренировочным и тестовым данным запрежается использовать абсалютную адресацию,\n",
    "# то есть адресацию, в которой присутствуют имена папок. Путь должен содержать только имя файла.\n",
    "#\n",
    "# Напоминание: под моделью машинного обучения понимаются все действия с исходными данными,\n",
    "# которые необходимо произвести, что бы сопоставить признаки целевому значению."
   ]
  },
  {
   "cell_type": "markdown",
   "metadata": {},
   "source": [
    "### Область работы 1 (библиотеки)"
   ]
  },
  {
   "cell_type": "code",
   "execution_count": 2,
   "metadata": {},
   "outputs": [],
   "source": [
    "# Данный блок в области 1 выполняется преподавателем\n",
    "#\n",
    "# данный блок предназначен только для подключения необходимых библиотек\n",
    "# запрещается подключать библиотеки в других блоках\n",
    "#\n",
    "# установка дополнительных библиотек размещается прямо здесь (обязательно закоментированы)\n",
    "#\n",
    "# pip install scikit-optimize"
   ]
  },
  {
   "cell_type": "code",
   "execution_count": 3,
   "metadata": {},
   "outputs": [],
   "source": [
    "import numpy as np\n",
    "import pandas as pd\n",
    "import matplotlib.pyplot as plt\n",
    "import seaborn as sns\n",
    "import pandas.plotting as pd_plt\n",
    "import pickle\n",
    "\n",
    "from sklearn.experimental import enable_halving_search_cv\n",
    "\n",
    "from sklearn.model_selection import (\n",
    "    train_test_split,\n",
    "    GridSearchCV,\n",
    "    RepeatedStratifiedKFold,\n",
    "    StratifiedShuffleSplit,\n",
    "    StratifiedKFold,\n",
    "    KFold,\n",
    "    cross_val_score,\n",
    "    HalvingGridSearchCV,\n",
    "    FixedThresholdClassifier,\n",
    ")\n",
    "from sklearn.metrics import (\n",
    "    classification_report,\n",
    "    precision_score,\n",
    "    confusion_matrix,\n",
    "    ConfusionMatrixDisplay,\n",
    "    roc_auc_score,\n",
    "    RocCurveDisplay,\n",
    "    DetCurveDisplay,\n",
    "    accuracy_score,\n",
    "    mean_squared_error,\n",
    "    fbeta_score,\n",
    "    make_scorer,\n",
    "    log_loss,\n",
    ")\n",
    "from sklearn.preprocessing import (\n",
    "    MinMaxScaler,\n",
    "    StandardScaler,\n",
    "    RobustScaler,\n",
    "    Normalizer,\n",
    "    OneHotEncoder,\n",
    "    OrdinalEncoder,\n",
    "    PolynomialFeatures,\n",
    "    KBinsDiscretizer,\n",
    "    FunctionTransformer,\n",
    ")\n",
    "from sklearn.impute import SimpleImputer, KNNImputer\n",
    "from sklearn.compose import ColumnTransformer, make_column_selector\n",
    "from sklearn.pipeline import Pipeline, make_pipeline, FeatureUnion\n",
    "from sklearn.feature_selection import SelectPercentile, RFE\n",
    "\n",
    "from sklearn.naive_bayes import GaussianNB\n",
    "from sklearn.linear_model import LogisticRegression\n",
    "from sklearn.neighbors import KNeighborsClassifier\n",
    "from sklearn.svm import SVC\n",
    "from sklearn.ensemble import (\n",
    "    RandomForestClassifier,\n",
    "    GradientBoostingClassifier,\n",
    "    VotingClassifier,\n",
    "    StackingClassifier,\n",
    ")\n",
    "from skopt import BayesSearchCV\n",
    "from skopt.space import Integer, Categorical, Real\n",
    "from sklearn.metrics import precision_recall_curve, fbeta_score"
   ]
  },
  {
   "cell_type": "markdown",
   "metadata": {},
   "source": [
    "### Область работы 2 (выполнение лучшей модели)"
   ]
  },
  {
   "cell_type": "code",
   "execution_count": 4,
   "metadata": {},
   "outputs": [],
   "source": [
    "# Данный блок(и) в области 2 выполняется преподавателем\n",
    "#\n",
    "# В области находится одна, единственная, итоговая модель машинного обучения с однозначными,\n",
    "# зафиксированными параметрами\n",
    "#\n",
    "# В данной области категорически запрещается искать, выбирать, улучшать, оптимизировать,\n",
    "# тюниговать и т.д. модель машинного обучения"
   ]
  },
  {
   "cell_type": "code",
   "execution_count": 5,
   "metadata": {},
   "outputs": [],
   "source": [
    "# Путь к тренировочному набору\n",
    "path_train = \"train.csv\"  # содержит только имя файла, без имен папок\n",
    "# Путь к тестовому набору\n",
    "path_test = \"test.csv\"  # содержит только имя файла, без имен папок"
   ]
  },
  {
   "cell_type": "code",
   "execution_count": 6,
   "metadata": {},
   "outputs": [],
   "source": [
    "# Блок обучения модели (все три модели)"
   ]
  },
  {
   "cell_type": "code",
   "execution_count": 7,
   "metadata": {},
   "outputs": [],
   "source": [
    "X = pd.read_csv(path_train)\n",
    "df_test = pd.read_csv(path_test)\n",
    "y = pd.read_csv(\"train_Y.csv\")"
   ]
  },
  {
   "cell_type": "code",
   "execution_count": 8,
   "metadata": {},
   "outputs": [],
   "source": [
    "df_train = pd.merge(X, y, left_index=True, right_index=True)"
   ]
  },
  {
   "cell_type": "code",
   "execution_count": 9,
   "metadata": {},
   "outputs": [],
   "source": [
    "df_train.drop_duplicates(inplace=True)"
   ]
  },
  {
   "cell_type": "code",
   "execution_count": 10,
   "metadata": {},
   "outputs": [],
   "source": [
    "X_train = df_train.drop(\"Diabetes_binary\", axis=1)\n",
    "y_train = df_train[\"Diabetes_binary\"]\n",
    "X_test = df_test"
   ]
  },
  {
   "cell_type": "code",
   "execution_count": 11,
   "metadata": {},
   "outputs": [],
   "source": [
    "columns_to_remove = [\n",
    "    \"Education\",\n",
    "    \"MentHlth\",\n",
    "    \"PhysHlth\",\n",
    "    \"Stroke\",\n",
    "    \"Fruits\",\n",
    "    \"Veggies\",\n",
    "    \"AnyHealthcare\",\n",
    "    \"Smoker\",\n",
    "    \"PhysActivity\",\n",
    "    \"NoDocbcCost\",\n",
    "]\n",
    "removing_columns = ColumnTransformer(\n",
    "    [\n",
    "        (\n",
    "            \"drop_features\",\n",
    "            \"drop\",\n",
    "            columns_to_remove,\n",
    "        )\n",
    "    ],\n",
    "    remainder=\"passthrough\",\n",
    "    verbose_feature_names_out=False,\n",
    "    n_jobs=-1,\n",
    ").set_output(transform=\"pandas\")"
   ]
  },
  {
   "cell_type": "code",
   "execution_count": 12,
   "metadata": {},
   "outputs": [],
   "source": [
    "total_pipeline = Pipeline([(\"first\", removing_columns)])"
   ]
  },
  {
   "cell_type": "code",
   "execution_count": 13,
   "metadata": {},
   "outputs": [],
   "source": [
    "best_params = {\n",
    "    \"criterion\": \"entropy\",\n",
    "    \"max_features\": \"sqrt\",\n",
    "    \"min_samples_leaf\": 5,\n",
    "    \"min_samples_split\": 2,\n",
    "    \"n_estimators\": 1001,\n",
    "    \"oob_score\": True,\n",
    "    \"n_jobs\": -1,\n",
    "}\n",
    "\n",
    "rf_model = RandomForestClassifier(**best_params)\n",
    "final_pipeline = Pipeline([(\"preprocessing\", total_pipeline), (\"model\", rf_model)])\n",
    "\n",
    "final_pipeline.fit(X_train, y_train)\n",
    "\n",
    "custom_threshold = 0.281\n",
    "fin_pipline = FixedThresholdClassifier(final_pipeline, threshold=0.281).fit(\n",
    "    X_train, y_train\n",
    ")"
   ]
  },
  {
   "cell_type": "code",
   "execution_count": 14,
   "metadata": {},
   "outputs": [],
   "source": [
    "best_params_GB = {\n",
    "    \"criterion\": \"squared_error\",\n",
    "    \"learning_rate\": 0.01,\n",
    "    \"loss\": \"exponential\",\n",
    "    \"max_depth\": 3,\n",
    "    \"max_features\": \"sqrt\",\n",
    "    \"min_samples_leaf\": 1,\n",
    "    \"n_estimators\": 1318,\n",
    "}\n",
    "\n",
    "\n",
    "gb_model = GradientBoostingClassifier(**best_params_GB)\n",
    "final_pipeline_GB = Pipeline([(\"preprocessing\", total_pipeline), (\"model\", gb_model)])\n",
    "\n",
    "final_pipeline_GB.fit(X_train, y_train)\n",
    "\n",
    "custom_threshold_GB = 0.279\n",
    "fin_pipline_GB = FixedThresholdClassifier(final_pipeline_GB, threshold=0.279).fit(\n",
    "    X_train, y_train\n",
    ")"
   ]
  },
  {
   "cell_type": "code",
   "execution_count": 15,
   "metadata": {},
   "outputs": [],
   "source": [
    "# Блок предсказания с использованием тестового набора (все три модели)"
   ]
  },
  {
   "cell_type": "code",
   "execution_count": 16,
   "metadata": {},
   "outputs": [],
   "source": [
    "y_predict_RF = fin_pipline.predict(X_test)"
   ]
  },
  {
   "cell_type": "code",
   "execution_count": 17,
   "metadata": {},
   "outputs": [],
   "source": [
    "y_predict_GB = fin_pipline_GB.predict(X_test)"
   ]
  },
  {
   "cell_type": "markdown",
   "metadata": {},
   "source": [
    "Моя финальная модель - бустинг, который я уже выше обучила"
   ]
  },
  {
   "cell_type": "code",
   "execution_count": 18,
   "metadata": {},
   "outputs": [],
   "source": [
    "y_predict_final = fin_pipline_GB.predict(X_test)"
   ]
  },
  {
   "cell_type": "code",
   "execution_count": 19,
   "metadata": {},
   "outputs": [
    {
     "data": {
      "text/plain": [
       "array([1., 1., 1., ..., 0., 1., 1.])"
      ]
     },
     "execution_count": 19,
     "metadata": {},
     "output_type": "execute_result"
    }
   ],
   "source": [
    "# Вектора предсказанных значений  RandomForestClassifier или ExtraTreesClassifier\n",
    "y_predict_RF"
   ]
  },
  {
   "cell_type": "code",
   "execution_count": 20,
   "metadata": {},
   "outputs": [
    {
     "data": {
      "text/plain": [
       "array([1., 1., 1., ..., 0., 1., 1.])"
      ]
     },
     "execution_count": 20,
     "metadata": {},
     "output_type": "execute_result"
    }
   ],
   "source": [
    "# Вектора предсказанных значений  GradientBoostingClassifier или HistGradientBoostingClassifier\n",
    "y_predict_GB"
   ]
  },
  {
   "cell_type": "code",
   "execution_count": 21,
   "metadata": {},
   "outputs": [
    {
     "data": {
      "text/plain": [
       "array([1., 1., 1., ..., 0., 1., 1.])"
      ]
     },
     "execution_count": 21,
     "metadata": {},
     "output_type": "execute_result"
    }
   ],
   "source": [
    "# Вектора предсказанных значений  финальной модели\n",
    "y_predict_final"
   ]
  },
  {
   "cell_type": "code",
   "execution_count": null,
   "metadata": {},
   "outputs": [],
   "source": []
  }
 ],
 "metadata": {
  "kernelspec": {
   "display_name": "base",
   "language": "python",
   "name": "python3"
  },
  "language_info": {
   "codemirror_mode": {
    "name": "ipython",
    "version": 3
   },
   "file_extension": ".py",
   "mimetype": "text/x-python",
   "name": "python",
   "nbconvert_exporter": "python",
   "pygments_lexer": "ipython3",
   "version": "3.11.7"
  }
 },
 "nbformat": 4,
 "nbformat_minor": 4
}
